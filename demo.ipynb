{
 "cells": [
  {
   "cell_type": "code",
   "execution_count": null,
   "id": "537c4017-1d3b-47a0-8a92-fab4180c62a7",
   "metadata": {},
   "outputs": [],
   "source": [
    "from simulation.SimulationRunner import SimulationRunner, SimulationConfig, ModelType, TopologyType\n",
    "from interactions.DialogueSimulation import DialogueSimulator\n",
    "from dotenv import load_dotenv\n",
    "load_dotenv()\n",
    "from utils.log_config import setup_logging, print_to_log, log_config, log_simulation_start, generate_filename_with_date"
   ]
  },
  {
   "cell_type": "markdown",
   "id": "db1741c0-9d16-4578-a355-1befa5c4673c",
   "metadata": {},
   "source": [
    "## Create logs \n",
    "\n",
    "It is useful to create two log files. The first one, `app_<date>.log` logs all the interactions (requests and responses) with the OpenAI API. It will also log responses and requests made to ChatOllama if you are using Ollama to run local models. \n",
    "\n",
    "The second log file `simulation_<date>.log` logs all the simulation steps, and the actual interactions of the agents within a simulation. \n",
    "\n",
    "We create these logs first and then proceed to the simulation. "
   ]
  },
  {
   "cell_type": "code",
   "execution_count": null,
   "id": "ca426143-dc33-4c8d-9000-daccf4bbae56",
   "metadata": {},
   "outputs": [],
   "source": [
    "app_log_name = generate_filename_with_date(\"app\")\n",
    "sim_log_name = generate_filename_with_date(\"simulation\")\n",
    "\n",
    "logger = setup_logging(app_file_name=app_log_name, simulation_file_name=sim_log_name)\n",
    "\n"
   ]
  },
  {
   "cell_type": "markdown",
   "id": "588bb783-ee55-44ab-80a8-7b3c109b1e3a",
   "metadata": {},
   "source": [
    "## Steps for Simulation \n",
    "\n",
    "1. Initialize the `SimulationRunner` object, and populate it with a `SimulationConfig` configuration\n",
    "2. Inject the topic of discussion into conversation.\n",
    "3. Let conversation evolve for desired number of steps\n",
    "\n",
    "For this example, we create a Small World network with 10 agents who will discuss the issue of abortion rights. The simulation will run for `num_rounds=50` and we will use `gpt-3.5-turbo-16k` as the LLM. "
   ]
  },
  {
   "cell_type": "code",
   "execution_count": null,
   "id": "f9fa5528-a253-429e-9a78-d336e2ec6bf0",
   "metadata": {},
   "outputs": [],
   "source": [
    "\n",
    "sim_config = SimulationConfig(num_agents=10, topic = \"Abortion Rights\", num_rounds = 50, \n",
    "                              topology=TopologyType.SMALL_WORLD,\n",
    "                             model_type=ModelType.GPT3BIS)\n"
   ]
  },
  {
   "cell_type": "markdown",
   "id": "fbaa6444-23f5-4cea-8247-5222a8334a2f",
   "metadata": {},
   "source": [
    "### Start logging the simulation"
   ]
  },
  {
   "cell_type": "code",
   "execution_count": null,
   "id": "4a6647ef-35cf-45dd-b6d5-fd7cc82f87cc",
   "metadata": {},
   "outputs": [],
   "source": [
    "log_simulation_start()"
   ]
  },
  {
   "cell_type": "markdown",
   "id": "54bd2fb6-7409-4214-968f-6a776dbc9efd",
   "metadata": {},
   "source": [
    "### We log the configuration for this simulation "
   ]
  },
  {
   "cell_type": "code",
   "execution_count": null,
   "id": "57a88cb2-6fda-4db5-921c-70e026d5ac6a",
   "metadata": {},
   "outputs": [],
   "source": [
    "log_config(sim_config.dict())"
   ]
  },
  {
   "cell_type": "markdown",
   "id": "f2ffcbfa-8cf5-4e66-ade6-8917294fa48b",
   "metadata": {},
   "source": [
    "### Create the `SimulationRunner` object \n",
    "\n",
    "The creation of this object will initialize the graph and also the agents. The agent personas and preferences and opinions will also be generated using the LLM. "
   ]
  },
  {
   "cell_type": "code",
   "execution_count": null,
   "id": "7fbe3e6a-45db-4549-8fd9-1ee787b7829e",
   "metadata": {},
   "outputs": [],
   "source": [
    "runner = SimulationRunner(config=sim_config, interaction_model=DialogueSimulator)"
   ]
  },
  {
   "cell_type": "markdown",
   "id": "1a27476a-00fa-4a51-a337-767f121e64bc",
   "metadata": {},
   "source": [
    "### Example persona for an agent "
   ]
  },
  {
   "cell_type": "code",
   "execution_count": null,
   "id": "1ebd943f-24d5-4b08-8875-eb7b8795fede",
   "metadata": {},
   "outputs": [],
   "source": [
    "print(runner.interaction_model.agents[4].agent_description)"
   ]
  },
  {
   "cell_type": "markdown",
   "id": "7a3ea4f9-f5ea-40e5-8fe4-b14d0a360539",
   "metadata": {},
   "source": [
    "### To start the simulation, inject an empty message\n",
    "Once an empty message is injected, an agent is picked at random. And then the message from this agent is transmitted to all other agents. For the next round, another agent is picked at random and the simulation continues. "
   ]
  },
  {
   "cell_type": "code",
   "execution_count": null,
   "id": "b8b534ef-f1df-4e44-b7ef-f65c71e4a9dc",
   "metadata": {},
   "outputs": [],
   "source": [
    "runner.interaction_model.inject(None, \"\")\n",
    "runner.run_simulation()"
   ]
  },
  {
   "cell_type": "markdown",
   "id": "48331695-cee4-48e8-a8de-009eab4f0ada",
   "metadata": {},
   "source": [
    "### Analyze agent messages \n",
    "\n",
    "`personal_message_history` contains the messages that this agent sent to other agents. \n",
    "\n",
    "The `history` object within `interaction_model` contains the history of all messages exchanged over the course of the simulation.\n"
   ]
  },
  {
   "cell_type": "code",
   "execution_count": null,
   "id": "3c07e787-8a58-451d-9e13-90367ad9b161",
   "metadata": {},
   "outputs": [],
   "source": [
    "agent_idx =4\n",
    "for i, message in enumerate(runner.interaction_model.agents[agent_idx].personal_message_history):\n",
    "    print(f'Message {i}: {message}')"
   ]
  }
 ],
 "metadata": {
  "kernelspec": {
   "display_name": "Python 3 (ipykernel)",
   "language": "python",
   "name": "python3"
  },
  "language_info": {
   "codemirror_mode": {
    "name": "ipython",
    "version": 3
   },
   "file_extension": ".py",
   "mimetype": "text/x-python",
   "name": "python",
   "nbconvert_exporter": "python",
   "pygments_lexer": "ipython3",
   "version": "3.10.12"
  }
 },
 "nbformat": 4,
 "nbformat_minor": 5
}
